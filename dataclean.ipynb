{
 "cells": [
  {
   "cell_type": "code",
   "execution_count": 2,
   "id": "0eaa1605-26a6-4a65-bc7b-c7d1fbaf25e0",
   "metadata": {},
   "outputs": [
    {
     "name": "stdout",
     "output_type": "stream",
     "text": [
      "<class 'pandas.core.frame.DataFrame'>\n",
      "RangeIndex: 45211 entries, 0 to 45210\n",
      "Data columns (total 17 columns):\n",
      " #   Column     Non-Null Count  Dtype \n",
      "---  ------     --------------  ----- \n",
      " 0   age        45211 non-null  int64 \n",
      " 1   job        45211 non-null  object\n",
      " 2   marital    45211 non-null  object\n",
      " 3   education  45211 non-null  object\n",
      " 4   default    45211 non-null  object\n",
      " 5   balance    45211 non-null  int64 \n",
      " 6   housing    45211 non-null  object\n",
      " 7   loan       45211 non-null  object\n",
      " 8   contact    45211 non-null  object\n",
      " 9   day        45211 non-null  int64 \n",
      " 10  month      45211 non-null  object\n",
      " 11  duration   45211 non-null  int64 \n",
      " 12  campaign   45211 non-null  int64 \n",
      " 13  pdays      45211 non-null  int64 \n",
      " 14  previous   45211 non-null  int64 \n",
      " 15  poutcome   45211 non-null  object\n",
      " 16  y          45211 non-null  object\n",
      "dtypes: int64(7), object(10)\n",
      "memory usage: 5.9+ MB\n",
      "None\n",
      "                 age          job  marital  education default        balance  \\\n",
      "count   45211.000000        45211    45211      45211   45211   45211.000000   \n",
      "unique           NaN           12        3          4       2            NaN   \n",
      "top              NaN  blue-collar  married  secondary      no            NaN   \n",
      "freq             NaN         9732    27214      23202   44396            NaN   \n",
      "mean       40.936210          NaN      NaN        NaN     NaN    1362.272058   \n",
      "std        10.618762          NaN      NaN        NaN     NaN    3044.765829   \n",
      "min        18.000000          NaN      NaN        NaN     NaN   -8019.000000   \n",
      "25%        33.000000          NaN      NaN        NaN     NaN      72.000000   \n",
      "50%        39.000000          NaN      NaN        NaN     NaN     448.000000   \n",
      "75%        48.000000          NaN      NaN        NaN     NaN    1428.000000   \n",
      "max        95.000000          NaN      NaN        NaN     NaN  102127.000000   \n",
      "\n",
      "       housing   loan   contact           day  month      duration  \\\n",
      "count    45211  45211     45211  45211.000000  45211  45211.000000   \n",
      "unique       2      2         3           NaN     12           NaN   \n",
      "top        yes     no  cellular           NaN    may           NaN   \n",
      "freq     25130  37967     29285           NaN  13766           NaN   \n",
      "mean       NaN    NaN       NaN     15.806419    NaN    258.163080   \n",
      "std        NaN    NaN       NaN      8.322476    NaN    257.527812   \n",
      "min        NaN    NaN       NaN      1.000000    NaN      0.000000   \n",
      "25%        NaN    NaN       NaN      8.000000    NaN    103.000000   \n",
      "50%        NaN    NaN       NaN     16.000000    NaN    180.000000   \n",
      "75%        NaN    NaN       NaN     21.000000    NaN    319.000000   \n",
      "max        NaN    NaN       NaN     31.000000    NaN   4918.000000   \n",
      "\n",
      "            campaign         pdays      previous poutcome      y  \n",
      "count   45211.000000  45211.000000  45211.000000    45211  45211  \n",
      "unique           NaN           NaN           NaN        4      2  \n",
      "top              NaN           NaN           NaN  unknown     no  \n",
      "freq             NaN           NaN           NaN    36959  39922  \n",
      "mean        2.763841     40.197828      0.580323      NaN    NaN  \n",
      "std         3.098021    100.128746      2.303441      NaN    NaN  \n",
      "min         1.000000     -1.000000      0.000000      NaN    NaN  \n",
      "25%         1.000000     -1.000000      0.000000      NaN    NaN  \n",
      "50%         2.000000     -1.000000      0.000000      NaN    NaN  \n",
      "75%         3.000000     -1.000000      0.000000      NaN    NaN  \n",
      "max        63.000000    871.000000    275.000000      NaN    NaN  \n"
     ]
    }
   ],
   "source": [
    "import pandas as pd\n",
    "import numpy as np\n",
    "\n",
    "\n",
    "file_path = 'bank-full-clean.csv'\n",
    "df = pd.read_csv(file_path)\n",
    "\n",
    "\n",
    "print(df.info())\n",
    "print(df.describe(include='all'))\n"
   ]
  },
  {
   "cell_type": "code",
   "execution_count": 4,
   "id": "3b98231b-339a-45cd-85b3-586f5d5611f2",
   "metadata": {},
   "outputs": [
    {
     "name": "stderr",
     "output_type": "stream",
     "text": [
      "C:\\Users\\华硕\\AppData\\Local\\Temp\\ipykernel_20228\\4074447170.py:11: FutureWarning: A value is trying to be set on a copy of a DataFrame or Series through chained assignment using an inplace method.\n",
      "The behavior will change in pandas 3.0. This inplace method will never work because the intermediate object on which we are setting values always behaves as a copy.\n",
      "\n",
      "For example, when doing 'df[col].method(value, inplace=True)', try using 'df.method({col: value}, inplace=True)' or df[col] = df[col].method(value) instead, to perform the operation inplace on the original object.\n",
      "\n",
      "\n",
      "  df[col].fillna(mode, inplace=True)\n",
      "C:\\Users\\华硕\\AppData\\Local\\Temp\\ipykernel_20228\\4074447170.py:17: FutureWarning: A value is trying to be set on a copy of a DataFrame or Series through chained assignment using an inplace method.\n",
      "The behavior will change in pandas 3.0. This inplace method will never work because the intermediate object on which we are setting values always behaves as a copy.\n",
      "\n",
      "For example, when doing 'df[col].method(value, inplace=True)', try using 'df.method({col: value}, inplace=True)' or df[col] = df[col].method(value) instead, to perform the operation inplace on the original object.\n",
      "\n",
      "\n",
      "  df[col].fillna(median, inplace=True)\n"
     ]
    }
   ],
   "source": [
    "# 2. Handling missing values\n",
    "\n",
    "df.replace([-2, -88], np.nan, inplace=True)\n",
    "\n",
    "# Fill in categorical variables (with mode or 'unknown')\n",
    "categorical_cols = ['job', 'marital', 'education', 'default', 'housing', 'loan', 'contact', 'poutcome']\n",
    "for col in categorical_cols:\n",
    "    mode = df[col].mode()[0]\n",
    "    df[col].fillna(mode, inplace=True)\n",
    "\n",
    "# Filling numeric variables (using median)\n",
    "numeric_cols = ['balance', 'day', 'duration', 'campaign']\n",
    "for col in numeric_cols:\n",
    "    median = df[col].median()\n",
    "    df[col].fillna(median, inplace=True)\n",
    "    "
   ]
  },
  {
   "cell_type": "code",
   "execution_count": 6,
   "id": "0e1dccdb-3fea-43d6-aaf9-f1343fd22949",
   "metadata": {},
   "outputs": [
    {
     "name": "stdout",
     "output_type": "stream",
     "text": [
      "balance 异常值数：4733\n",
      "day 异常值数：0\n",
      "duration 异常值数：3235\n",
      "campaign 异常值数：3064\n"
     ]
    },
    {
     "name": "stderr",
     "output_type": "stream",
     "text": [
      "C:\\Users\\华硕\\AppData\\Local\\Temp\\ipykernel_20228\\1203577414.py:17: FutureWarning: A value is trying to be set on a copy of a DataFrame or Series through chained assignment using an inplace method.\n",
      "The behavior will change in pandas 3.0. This inplace method will never work because the intermediate object on which we are setting values always behaves as a copy.\n",
      "\n",
      "For example, when doing 'df[col].method(value, inplace=True)', try using 'df.method({col: value}, inplace=True)' or df[col] = df[col].method(value) instead, to perform the operation inplace on the original object.\n",
      "\n",
      "\n",
      "  df[col].fillna(median, inplace=True)\n"
     ]
    }
   ],
   "source": [
    "# 3. Outlier Detection (Demonstration: Using IQR)\n",
    "for col in numeric_cols:\n",
    "    Q1 = df[col].quantile(0.25)\n",
    "    Q3 = df[col].quantile(0.75)\n",
    "    IQR = Q3 - Q1\n",
    "    lower_bound = Q1 - 1.5 * IQR\n",
    "    upper_bound = Q3 + 1.5 * IQR\n",
    "    outliers = df[(df[col] < lower_bound) | (df[col] > upper_bound)]\n",
    "    print(f\"{col} Number of outliers：{len(outliers)}\")\n",
    "    df.loc[(df[col] < lower_bound) | (df[col] > upper_bound), col] = np.nan\n",
    "\n",
    "for col in numeric_cols:\n",
    "    median = df[col].median()\n",
    "    df[col].fillna(median, inplace=True)"
   ]
  },
  {
   "cell_type": "code",
   "execution_count": 8,
   "id": "6d4978cf-5743-43bc-9e20-5bf2ed99ede0",
   "metadata": {},
   "outputs": [],
   "source": [
    "#drop_duplicates\n",
    "df.drop_duplicates(inplace=True)"
   ]
  },
  {
   "cell_type": "code",
   "execution_count": 10,
   "id": "86aae9f9-093f-4e23-aef6-1df6b07ea6aa",
   "metadata": {},
   "outputs": [
    {
     "name": "stdout",
     "output_type": "stream",
     "text": [
      "Index(['age', 'job', 'marital', 'education', 'default', 'balance', 'housing',\n",
      "       'loan', 'contact', 'day', 'month', 'duration', 'campaign', 'pdays',\n",
      "       'previous', 'poutcome', 'y'],\n",
      "      dtype='object')\n"
     ]
    }
   ],
   "source": [
    "print(df.columns)"
   ]
  },
  {
   "cell_type": "code",
   "execution_count": 12,
   "id": "375d8907-feac-4e55-86c4-1990f7daa801",
   "metadata": {},
   "outputs": [],
   "source": [
    "# One-hot encode 'marital', 'job', 'education', 'contact', and 'poutcome' to ensure that no category is omitted\n",
    "categorical_cols = ['marital', 'job', 'education', 'contact', 'poutcome']\n",
    "df = pd.get_dummies(df, columns=categorical_cols, drop_first=False)"
   ]
  },
  {
   "cell_type": "code",
   "execution_count": 14,
   "id": "6b93a4fb-6c59-4fb9-8fd4-535822d5ee70",
   "metadata": {},
   "outputs": [],
   "source": [
    "# 7. Normalize\n",
    "from sklearn.preprocessing import StandardScaler\n",
    "scaler = StandardScaler()\n",
    "for col in ['balance', 'day', 'duration', 'campaign']:\n",
    "    df[col] = scaler.fit_transform(df[[col]])\n"
   ]
  },
  {
   "cell_type": "code",
   "execution_count": 15,
   "id": "97e17dee-6f45-480d-b284-d8dcbaa9c86d",
   "metadata": {},
   "outputs": [],
   "source": [
    "import pandas as pd\n",
    "# 1. Define a dictionary mapping months to seasons\n",
    "month_to_season_map = {\n",
    "    'jan': 'winter',\n",
    "    'feb': 'winter',\n",
    "    'mar': 'spring',\n",
    "    'apr': 'spring',\n",
    "    'may': 'spring',\n",
    "    'jun': 'summer',\n",
    "    'jul': 'summer',\n",
    "    'aug': 'summer',\n",
    "    'sep': 'autumn',\n",
    "    'oct': 'autumn',\n",
    "    'nov': 'autumn',\n",
    "    'dec': 'winter'\n",
    "}\n",
    "\n",
    "# 2.Apply mapping to generate season column\n",
    "df['season'] = df['month'].str.lower().map(month_to_season_map)\n",
    "\n",
    "# 3. Generate one-hot encodings of all four seasons (making sure not to drop any categories)\n",
    "season_dummies = pd.get_dummies(df['season'], prefix='season', drop_first=False)\n",
    "\n",
    "# 4. Add seasonal dummy variables to the original data\n",
    "df = pd.concat([df, season_dummies], axis=1)\n",
    "\n",
    "# This will give you four columns: season_winter, season_spring, season_summer, season_autumn, each with a value of 0 or 1\n"
   ]
  },
  {
   "cell_type": "code",
   "execution_count": 18,
   "id": "2461457b-65a4-44cb-9e9f-6abe64d6317e",
   "metadata": {},
   "outputs": [],
   "source": [
    "# 1. Age 4 categories (youth, middle-aged, middle-aged and elderly, elderly)\n",
    "# Hypothetical categories: youth (19-35), middle-aged (36-50), middle-aged and elderly (51-65), elderly (66-87)\n",
    "df['age_19_35']   = ((df['age'] >= 19) & (df['age'] <= 35)).astype(int)\n",
    "df['age_36_50']   = ((df['age'] > 35) & (df['age'] <= 50)).astype(int)\n",
    "df['age_51_65']   = ((df['age'] > 50) & (df['age'] <= 65)).astype(int)\n",
    "df['age_66_87']   = (df['age'] > 65).astype(int)\n",
    "\n",
    "# 2. Balance 4 levels (low, medium, high, high)\n",
    "df['balance_low']     = (df['balance'] < -1).astype(int)\n",
    "df['balance_medium']  = ((df['balance'] >= -1) & (df['balance'] < 0)).astype(int)\n",
    "df['balance_high']    = ((df['balance'] >= 0) & (df['balance'] < 1)).astype(int)\n",
    "df['balance_very_high']= (df['balance'] >= 1).astype(int)\n",
    "\n",
    "# 3. Duration 4levels (low, medium, high, high)\n",
    "df['duration_short']   = (df['duration'] <= -0.5).astype(int)\n",
    "df['duration_medium']= ((df['duration'] > -0.5) & (df['duration'] < 1)).astype(int)\n",
    "df['duration_long']  = ((df['duration'] >= 1) & (df['duration'] < 2)).astype(int)\n",
    "df['duration_very_long'] = (df['duration'] >= 2).astype(int)\n",
    "\n",
    "df['campaign_-inf_-0.3'] = (df['campaign'] <= -0.3).astype(int)\n",
    "df['campaign_-0.3_0'] = ((df['campaign'] > -0.3) & (df['campaign'] <= 0)).astype(int)\n",
    "df['campaign_0_1'] = ((df['campaign'] > 0) & (df['campaign'] <= 1)).astype(int)\n",
    "df['campaign_1_inf'] = (df['campaign'] > 1).astype(int)\n",
    "\n",
    "\n",
    "# 5. Split pdays into:\n",
    "# a) Whether to contact (pdays == -1 means no contact, otherwise 1)\n",
    "# b) Segments: 0-300, 301-871\n",
    "df['pdays_not_contact'] = (df['pdays'] == -1).astype(int)\n",
    "df['pdays_contact_range1'] = ((df['pdays'] > 0) & (df['pdays'] <=300)).astype(int)\n",
    "df['pdays_contact_range2'] = ((df['pdays'] > 300) & (df['pdays'] <=871)).astype(int)\n",
    "\n",
    "# 6. Previous times (number of previous contacts)\n",
    "df['previous_0'] = (df['previous'] == 0).astype(int)\n",
    "df['previous_1_5'] = ((df['previous'] >= 1) & (df['previous'] <=5)).astype(int)\n",
    "df['previous_6_15'] = ((df['previous'] > 5) & (df['previous'] <=15)).astype(int)\n",
    "df['previous_16_plus'] = (df['previous'] >15).astype(int)\n",
    "\n",
    "# 7. Convert categorical features (already yes/no) to 0/1\n",
    "for col in ['default', 'housing', 'loan']:\n",
    "    df[col] = df[col].map({'no':0, 'yes':1})"
   ]
  },
  {
   "cell_type": "code",
   "execution_count": 20,
   "id": "a98750eb-8aba-4129-b829-f3381e3da082",
   "metadata": {},
   "outputs": [
    {
     "name": "stderr",
     "output_type": "stream",
     "text": [
      "C:\\Users\\华硕\\AppData\\Local\\Temp\\ipykernel_20228\\404666328.py:2: FutureWarning: Downcasting behavior in `replace` is deprecated and will be removed in a future version. To retain the old behavior, explicitly call `result.infer_objects(copy=False)`. To opt-in to the future behavior, set `pd.set_option('future.no_silent_downcasting', True)`\n",
      "  df = df.replace({True: 1, False: 0})\n"
     ]
    }
   ],
   "source": [
    "df = df.replace({True: 1, False: 0})"
   ]
  },
  {
   "cell_type": "code",
   "execution_count": 22,
   "id": "50a144f1-3148-4629-b485-5d4c352c852a",
   "metadata": {},
   "outputs": [],
   "source": [
    "df['y'] = df['y'].map({'no': 0, 'yes': 1})"
   ]
  },
  {
   "cell_type": "code",
   "execution_count": 24,
   "id": "54b8ee78-141e-4d52-a1bc-213c7f2399b9",
   "metadata": {},
   "outputs": [
    {
     "name": "stdout",
     "output_type": "stream",
     "text": [
      "<class 'pandas.core.frame.DataFrame'>\n",
      "RangeIndex: 45211 entries, 0 to 45210\n",
      "Data columns (total 66 columns):\n",
      " #   Column                Non-Null Count  Dtype  \n",
      "---  ------                --------------  -----  \n",
      " 0   age                   45211 non-null  int64  \n",
      " 1   default               45211 non-null  int64  \n",
      " 2   balance               45211 non-null  float64\n",
      " 3   housing               45211 non-null  int64  \n",
      " 4   loan                  45211 non-null  int64  \n",
      " 5   day                   45211 non-null  float64\n",
      " 6   month                 45211 non-null  object \n",
      " 7   duration              45211 non-null  float64\n",
      " 8   campaign              45211 non-null  float64\n",
      " 9   pdays                 45211 non-null  int64  \n",
      " 10  previous              45211 non-null  int64  \n",
      " 11  y                     45211 non-null  int64  \n",
      " 12  marital_divorced      45211 non-null  int64  \n",
      " 13  marital_married       45211 non-null  int64  \n",
      " 14  marital_single        45211 non-null  int64  \n",
      " 15  job_admin.            45211 non-null  int64  \n",
      " 16  job_blue-collar       45211 non-null  int64  \n",
      " 17  job_entrepreneur      45211 non-null  int64  \n",
      " 18  job_housemaid         45211 non-null  int64  \n",
      " 19  job_management        45211 non-null  int64  \n",
      " 20  job_retired           45211 non-null  int64  \n",
      " 21  job_self-employed     45211 non-null  int64  \n",
      " 22  job_services          45211 non-null  int64  \n",
      " 23  job_student           45211 non-null  int64  \n",
      " 24  job_technician        45211 non-null  int64  \n",
      " 25  job_unemployed        45211 non-null  int64  \n",
      " 26  job_unknown           45211 non-null  int64  \n",
      " 27  education_primary     45211 non-null  int64  \n",
      " 28  education_secondary   45211 non-null  int64  \n",
      " 29  education_tertiary    45211 non-null  int64  \n",
      " 30  education_unknown     45211 non-null  int64  \n",
      " 31  contact_cellular      45211 non-null  int64  \n",
      " 32  contact_telephone     45211 non-null  int64  \n",
      " 33  contact_unknown       45211 non-null  int64  \n",
      " 34  poutcome_failure      45211 non-null  int64  \n",
      " 35  poutcome_other        45211 non-null  int64  \n",
      " 36  poutcome_success      45211 non-null  int64  \n",
      " 37  poutcome_unknown      45211 non-null  int64  \n",
      " 38  season                45211 non-null  object \n",
      " 39  season_autumn         45211 non-null  int64  \n",
      " 40  season_spring         45211 non-null  int64  \n",
      " 41  season_summer         45211 non-null  int64  \n",
      " 42  season_winter         45211 non-null  int64  \n",
      " 43  age_19_35             45211 non-null  int32  \n",
      " 44  age_36_50             45211 non-null  int32  \n",
      " 45  age_51_65             45211 non-null  int32  \n",
      " 46  age_66_87             45211 non-null  int32  \n",
      " 47  balance_low           45211 non-null  int32  \n",
      " 48  balance_medium        45211 non-null  int32  \n",
      " 49  balance_high          45211 non-null  int32  \n",
      " 50  balance_very_high     45211 non-null  int32  \n",
      " 51  duration_short        45211 non-null  int32  \n",
      " 52  duration_medium       45211 non-null  int32  \n",
      " 53  duration_long         45211 non-null  int32  \n",
      " 54  duration_very_long    45211 non-null  int32  \n",
      " 55  campaign_-inf_-0.3    45211 non-null  int32  \n",
      " 56  campaign_-0.3_0       45211 non-null  int32  \n",
      " 57  campaign_0_1          45211 non-null  int32  \n",
      " 58  campaign_1_inf        45211 non-null  int32  \n",
      " 59  pdays_not_contact     45211 non-null  int32  \n",
      " 60  pdays_contact_range1  45211 non-null  int32  \n",
      " 61  pdays_contact_range2  45211 non-null  int32  \n",
      " 62  previous_0            45211 non-null  int32  \n",
      " 63  previous_1_5          45211 non-null  int32  \n",
      " 64  previous_6_15         45211 non-null  int32  \n",
      " 65  previous_16_plus      45211 non-null  int32  \n",
      "dtypes: float64(4), int32(23), int64(37), object(2)\n",
      "memory usage: 18.8+ MB\n",
      "None\n"
     ]
    }
   ],
   "source": [
    "print(df.info())\n",
    "\n",
    "df.to_csv('prepared_bank_data.csv', index=False)"
   ]
  },
  {
   "cell_type": "code",
   "execution_count": null,
   "id": "ad8047b9-b037-4356-aa8d-9ce997cc96e1",
   "metadata": {},
   "outputs": [],
   "source": []
  },
  {
   "cell_type": "code",
   "execution_count": null,
   "id": "a2a83db1-88d9-434e-abd0-94c182fb8c4e",
   "metadata": {},
   "outputs": [],
   "source": []
  }
 ],
 "metadata": {
  "kernelspec": {
   "display_name": "Python [conda env:base] *",
   "language": "python",
   "name": "conda-base-py"
  },
  "language_info": {
   "codemirror_mode": {
    "name": "ipython",
    "version": 3
   },
   "file_extension": ".py",
   "mimetype": "text/x-python",
   "name": "python",
   "nbconvert_exporter": "python",
   "pygments_lexer": "ipython3",
   "version": "3.12.7"
  }
 },
 "nbformat": 4,
 "nbformat_minor": 5
}
